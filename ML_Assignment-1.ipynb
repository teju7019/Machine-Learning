{
 "cells": [
  {
   "cell_type": "code",
   "execution_count": 2,
   "id": "98a76796",
   "metadata": {
    "pycharm": {
     "name": "#%%\n"
    },
    "scrolled": true
   },
   "outputs": [
    {
     "name": "stdout",
     "output_type": "stream",
     "text": [
      "Sorted ages:  [19, 19, 20, 22, 24, 24, 24, 25, 25, 26]\n",
      "Minimum value of ages:  19\n",
      "Maximum value of ages:  26\n",
      "List after update:  [19, 19, 19, 20, 22, 24, 24, 24, 25, 25, 26, 26]\n",
      "Median of ages:  24.0\n",
      "Average of ages:  22.75\n",
      "Range of ages:  7\n"
     ]
    }
   ],
   "source": [
    "#Question 1\n",
    "#statistics module. It provides some functions for calculating basic statistics on data like mean, median\n",
    "import statistics\n",
    "\n",
    "ages = [19, 22, 19, 24, 20, 25, 26, 24, 25, 24]\n",
    "#sort() function to sort the list and min(),max() to find minimum and maximum values of list respectively.\n",
    "ages.sort()\n",
    "print(\"Sorted ages: \", ages)\n",
    "print(\"Minimum value of ages: \", min(ages))\n",
    "print(\"Maximum value of ages: \", max(ages))\n",
    "# insert(position, value) - inserts the value in list at specified position\n",
    "ages.insert(0,min(ages))\n",
    "# append(value) - appends the value at the end of list\n",
    "ages.append(max(ages))\n",
    "print(\"List after update: \", ages)\n",
    "#The biggest advantage of using median() function is that the data-list does not need to be sorted \n",
    "#before being sent as parameter to the median() function using statistice module\n",
    "print(\"Median of ages: \", statistics.median(ages))\n",
    "print(\"Average of ages: \", statistics.mean(ages))\n",
    "print(\"Range of ages: \", max(ages)-min(ages))\n",
    "\n",
    "# we can also use below code to find median and average of listed data\n",
    "# ages_length = len(ages)\n",
    "# if ages_length/2 != 0:\n",
    "#     print('Median of ages: ', ages[int(ages_length/2)])\n",
    "# else:\n",
    "#     print('Median of ages: ', ages[ages_length-1/2]+ages[ages_length+1/2])   \n",
    "# print('Average of ages: ', sum(ages)/ages_length)"
   ]
  },
  {
   "cell_type": "code",
   "execution_count": 4,
   "id": "0c102a45",
   "metadata": {
    "pycharm": {
     "name": "#%%\n"
    }
   },
   "outputs": [
    {
     "name": "stdout",
     "output_type": "stream",
     "text": [
      "Added key-value pair to dog:  {'name': 'oreo', 'color': 'white', 'breed': 'shihzu', 'legs': 4, 'age': 2}\n",
      "\n",
      "Student_Dictionary after adding keys:  {'first_name': None, 'last_name': None, 'gender': None, 'age': None, 'marital status': None, 'skills': None, 'country': None, 'city': None, 'address': None}\n",
      "Length of Student_Dictionary:  9\n",
      "\n",
      "Student_dict  {'first_name': 'Surya', 'last_name': 'reddy', 'gender': 'Male', 'age': '26', 'marital status': 'Single', 'skills': ['Java', 'Python'], 'country': 'India', 'city': 'Nellore', 'address': '6C ABC Street'}\n",
      "\n",
      "Accessing Skills value in dictionary:  ['Java', 'Python']\n",
      "Data Type of Skills in Student Dict:  <class 'list'>\n",
      "Updated Skills list after adding new values:  ['Java', 'Python', 'Apex', 'JavaScript']\n",
      "\n",
      " dict_keys(['first_name', 'last_name', 'gender', 'age', 'marital status', 'skills', 'country', 'city', 'address'])\n",
      "dict_values(['Surya', 'reddy', 'Male', '26', 'Single', ['Java', 'Python', 'Apex', 'JavaScript'], 'India', 'Nellore', '6C ABC Street'])\n"
     ]
    }
   ],
   "source": [
    "#Question 2\n",
    "dog= dict()\n",
    "#update() method inserts the specified dictionary  or any key-value pairs to the resp. dictionary\n",
    "dog.update({\"name\":\"oreo\", \"color\":\"white\", \"breed\":\"shihzu\", \"legs\":4, \"age\":2})\n",
    "print(\"Added key-value pair to dog: \",dog)\n",
    "\n",
    "#used  dict() function which creates a empty dictionary\n",
    "student_dict = dict()\n",
    "keyList = [\"first_name\", \"last_name\", \"gender\",\"age\",\"marital status\",\"skills\",\"country\",\"city\",\"address\"]\n",
    "#added only keys to the dictionary with None value using update method\n",
    "student_dict.update({key: None for key in keyList})\n",
    "print(\"\\nStudent_Dictionary after adding keys: \",student_dict)\n",
    "\n",
    "#utilised len(dictionary) function to calculate lenght\n",
    "print(\"Length of Student_Dictionary: \", len(student_dict))\n",
    "#updated student_dict with sample values\n",
    "student_dict.update({\"first_name\": \"Surya\", \"last_name\": \"reddy\", \"gender\": \"Male\", \"age\": \"26\",\n",
    "                     \"marital status\": \"Single\", \"skills\": [\"Java\",\"Python\"], \"country\": \"India\", \"city\": \"Nellore\",\n",
    "                     \"address\": \"6C ABC Street\"})\n",
    "\n",
    "print(\"\\nStudent_dict \", student_dict)\n",
    "\n",
    "#accessing paritcular value of key in dict: dict[\"key\"]\n",
    "print(\"\\nAccessing Skills value in dictionary: \",student_dict[\"skills\"])\n",
    "#type(value) - function gives the datatype of provided values\n",
    "print(\"Data Type of Skills in Student Dict: \", type(student_dict[\"skills\"]))\n",
    "\n",
    "#The extend() adds all the elements of an iterable (list, tuple, string etc.) to the end of the list\n",
    "student_dict[\"skills\"].extend([\"Apex\", \"JavaScript\"])\n",
    "print(\"Updated Skills list after adding new values: \", student_dict[\"skills\"])\n",
    "\n",
    "# dict.keys() and values() gives the list of keys and values as a list respectively\n",
    "print(\"\\n\",student_dict.keys())\n",
    "print(student_dict.values())\n"
   ]
  },
  {
   "cell_type": "code",
   "execution_count": 3,
   "id": "7ea511ae",
   "metadata": {
    "pycharm": {
     "name": "#%%\n"
    }
   },
   "outputs": [
    {
     "name": "stdout",
     "output_type": "stream",
     "text": [
      "Sisters:  ('kavya', 'divya')\n",
      "Brothers:  ('Surya', 'shashi', 'Pavan')\n",
      "siblings:  ('kavya', 'divya', 'Surya', 'shashi', 'Pavan')\n",
      "Number of Siblings: 5\n",
      "family_members:  ('kavya', 'divya', 'Surya', 'shashi', 'Pavan', 'krishna', 'Sandhya')\n"
     ]
    }
   ],
   "source": [
    "#Question 3\n",
    "sisters = (\"kavya\",\"divya\")\n",
    "print(\"Sisters: \", sisters,)\n",
    "brothers = (\"Surya\",\"shashi\",\"Pavan\")\n",
    "print(\"Brothers: \", brothers)\n",
    "siblings = sisters+brothers\n",
    "print(\"siblings: \",siblings)\n",
    "print(\"Number of Siblings:\", len(siblings))\n",
    "family_members = siblings+(\"krishna\",\"Sandhya\")\n",
    "print(\"family_members: \", family_members)"
   ]
  },
  {
   "cell_type": "code",
   "execution_count": 5,
   "id": "570a3e4a",
   "metadata": {
    "pycharm": {
     "name": "#%%\n"
    }
   },
   "outputs": [
    {
     "name": "stdout",
     "output_type": "stream",
     "text": [
      "Length of Set it_companies: 7\n",
      "it_companies:  {'Amazon', 'Google', 'Microsoft', 'Twitter', 'Apple', 'Oracle', 'IBM', 'Facebook'}\n",
      "it_companies after update:  {'Microsoft', 'Facebook', 'Google', 'Twitter', 'Salesforce', 'Wipro', 'IBM', 'Cognizant', 'Apple', 'Oracle', 'Amazon', 'LinkedIn'}\n",
      "{'Microsoft', 'Facebook', 'Google', 'Twitter', 'Salesforce', 'Wipro', 'IBM', 'Cognizant', 'Apple', 'Oracle', 'Amazon'}\n",
      "\n",
      "Difference between Remove() and Discard(): Discard() method is different from the remove() method, because the remove() method will throw an error if the specified item is not present in list, whereas the discard() method will not throw any error if item doesn't exist in list.\n",
      "\n",
      "Union of A and B sets:  {19, 20, 22, 24, 25, 26, 27, 28}\n",
      "Intersection of A and B sets:  {19, 20, 22, 24, 25, 26}\n",
      "A is Subset of B?  True\n",
      "A and B are disjoint sets?  False\n",
      "(AUB) AND (BUA):  {19, 20, 22, 24, 25, 26, 27, 28}\n",
      "Symmetric Difference of A with B:  {27, 28}\n",
      "After clear Set A values:  set() \tSet B values:  set()\n",
      "\n",
      "age list:  [22, 19, 24, 25, 26, 24, 25, 24]\n",
      "set of ageslist:  {19, 22, 24, 25, 26}\n",
      "Length of age list:  8 \n",
      "Length of age set 5\n"
     ]
    }
   ],
   "source": [
    "#Question 4\n",
    "it_companies = {'Facebook', 'Google', 'Microsoft', 'Apple', 'IBM', 'Oracle', 'Amazon'}\n",
    "print(\"Length of Set it_companies:\",len(it_companies))\n",
    "#add(elements) adds elements into the set\n",
    "it_companies.add('Twitter')\n",
    "print(\"it_companies: \", it_companies)\n",
    "it_companies.update(['Cognizant','LinkedIn','Salesforce','Wipro'])\n",
    "print(\"it_companies after update: \",it_companies)\n",
    "#remove() remove the element from the set\n",
    "it_companies.remove(\"LinkedIn\")\n",
    "print(it_companies)\n",
    "\n",
    "#Difference between remove and discard\n",
    "print(\"\\nDifference between Remove() and Discard(): Discard() method is different from the remove() method, because the remove() method will throw an error if the specified item is not present in list, whereas the discard() method will not throw any error if item doesn't exist in list.\")\n",
    "A = {19, 22, 24, 20, 25, 26} \n",
    "B = {19, 22, 20, 25, 26, 24, 28, 27} \n",
    "#all set operation can be performed in set: union(), intersection()\n",
    "print(\"\\nUnion of A and B sets: \",A.union(B))\n",
    "print(\"Intersection of A and B sets: \",A.intersection(B))\n",
    "#issubset() returns true if it is subset of other else false\n",
    "print(\"A is Subset of B? \",A.issubset(B))\n",
    "#to check is A and B are disjoint sets ( no elements in common)\n",
    "print(\"A and B are disjoint sets? \",A.isdisjoint(B))\n",
    "print(\"(AUB) AND (BUA): \",(A.union(B)).intersection(B.union(A)))\n",
    "#checking symmetric differece .. return the extra elements of set A that are not in B\n",
    "print(\"Symmetric Difference of A with B: \",A.symmetric_difference(B))\n",
    "#clear() clear/ delete all elements from set\n",
    "A.clear()\n",
    "B.clear()\n",
    "print(\"After clear Set A values: \", A,\"\\tSet B values: \",B)\n",
    "\n",
    "age = [22, 19, 24, 25, 26, 24, 25, 24] \n",
    "print(\"\\nage list: \",age)\n",
    "age_set = set(age)\n",
    "print(\"set of ageslist: \", age_set)\n",
    "print(\"Length of age list: \", len(age), \"\\nLength of age set\",len(age_set))"
   ]
  },
  {
   "cell_type": "code",
   "execution_count": 6,
   "id": "c59361e2",
   "metadata": {
    "pycharm": {
     "name": "#%%\n"
    }
   },
   "outputs": [
    {
     "name": "stdout",
     "output_type": "stream",
     "text": [
      "Area of a circle =  2827.4333882308138  meters square\n",
      "Circumference of a circle =  188.49555921538757  meters\n",
      "Enter radius of circle: 10\n",
      "Area of a circle =  314.1592653589793  meters square\n"
     ]
    }
   ],
   "source": [
    "#Question 5\n",
    "from math import pi\n",
    "radius_of_circle = 30\n",
    "_area_of_circle_ = pi * radius_of_circle **2\n",
    "print(\"Area of a circle = \",_area_of_circle_,\" meters square\")\n",
    "_circum_of_circle_ = 2 * pi * radius_of_circle\n",
    "print(\"Circumference of a circle = \",_circum_of_circle_, ' meters')\n",
    "\n",
    "_radius_of_circle_ = float(input(\"Enter radius of circle: \"))\n",
    "_area_of_circle_ = pi * _radius_of_circle_ **2\n",
    "print(\"Area of a circle = \",_area_of_circle_,\" meters square\")"
   ]
  },
  {
   "cell_type": "code",
   "execution_count": 7,
   "id": "64812c24",
   "metadata": {
    "pycharm": {
     "name": "#%%\n"
    }
   },
   "outputs": [
    {
     "name": "stdout",
     "output_type": "stream",
     "text": [
      "I am a teacher and I love to inspire and teach people\n",
      "Number of Unique words:  10 {'and', 'teach', 'to', 'inspire', 'teacher', 'love', 'people', 'I', 'a', 'am'}\n"
     ]
    }
   ],
   "source": [
    "#Question 6\n",
    "print(\"I am a teacher and I love to inspire and teach people\")\n",
    "set_words = set((\"I am a teacher and I love to inspire and teach people\".split(\" \")))\n",
    "print(\"Number of Unique words: \",len(set_words), set_words)"
   ]
  },
  {
   "cell_type": "code",
   "execution_count": 8,
   "id": "9c3c6e10",
   "metadata": {
    "pycharm": {
     "name": "#%%\n"
    }
   },
   "outputs": [
    {
     "name": "stdout",
     "output_type": "stream",
     "text": [
      "\u001b[1m Name \t  Age \tCountry City\n",
      " Asabench 250 \tFinland Helsinki\u001b[0m\n"
     ]
    }
   ],
   "source": [
    "#Question 7\n",
    "text = \"\\033[1m Name \\t  Age \\tCountry City\\n Asabench 250 \\tFinland Helsinki\\033[0m\"\n",
    "print(text)"
   ]
  },
  {
   "cell_type": "code",
   "execution_count": 9,
   "id": "676782b8",
   "metadata": {
    "pycharm": {
     "name": "#%%\n"
    }
   },
   "outputs": [
    {
     "name": "stdout",
     "output_type": "stream",
     "text": [
      "The area of a circle with radius 10 is 314 meters square.\n"
     ]
    }
   ],
   "source": [
    "#Question 8\n",
    "radius = 10 \n",
    "area = 3.14 * radius ** 2 \n",
    "# using 'f' we can format the data. %.0f will give data without any decimals, %.2f displays until 2 decimals\n",
    "print(\"The area of a circle with radius\",radius,\"is %.0f\" %area, \"meters square.\")"
   ]
  },
  {
   "cell_type": "code",
   "execution_count": 10,
   "id": "423f38a7",
   "metadata": {
    "pycharm": {
     "name": "#%%\n"
    }
   },
   "outputs": [
    {
     "name": "stdout",
     "output_type": "stream",
     "text": [
      "Enter number of students: 4\n",
      "Enter weight of 1 student in lbs: 150\n",
      "Enter weight of 2 student in lbs: 155\n",
      "Enter weight of 3 student in lbs: 145\n",
      "Enter weight of 4 student in lbs: 148\n",
      "weight of students in lbs:  [150, 155, 145, 148]\n",
      "weight of students in kgs:  [68.04, 70.31, 65.77, 67.13]\n"
     ]
    }
   ],
   "source": [
    "#Question 9\n",
    "#1lb = 0.453592kg\n",
    "number_of_students = int(input(\"Enter number of students: \"))\n",
    "weight_of_students_lbs = list() #to store weights in lbs\n",
    "weight_of_students_kgs = list() # to store weights in kgs\n",
    "\n",
    "for each in range(number_of_students):\n",
    "    weight_lb = int(input(\"Enter weight of {} student in lbs: \".format(each+1)))\n",
    "    weight_of_students_lbs.insert(each, weight_lb)\n",
    "    #converting lbs to kg and adding to seperate list\n",
    "    weight_kg = float(\"%.2f\" %(weight_lb*0.453592))\n",
    "    weight_of_students_kgs.insert(each, weight_kg)\n",
    "    \n",
    "print(\"weight of students in lbs: \",weight_of_students_lbs)\n",
    "print(\"weight of students in kgs: \",weight_of_students_kgs)\n"
   ]
  },
  {
   "cell_type": "code",
   "execution_count": 11,
   "id": "afb6be67",
   "metadata": {
    "pycharm": {
     "name": "#%%\n"
    }
   },
   "outputs": [
    {
     "name": "stdout",
     "output_type": "stream",
     "text": [
      "Dataset with total 8 points: \n",
      " [[ 1  0]\n",
      " [ 2  0]\n",
      " [ 3  0]\n",
      " [ 6  0]\n",
      " [ 6  0]\n",
      " [ 7  0]\n",
      " [10  0]\n",
      " [11  0]] \n",
      " Size:  8\n",
      "\n",
      "Class label for the datasetX  Y: [0 0 1 1 1 0 0 0]\n",
      "\n",
      "Training Data X: \n",
      " [[1 0]\n",
      " [2 0]\n",
      " [3 0]\n",
      " [6 0]]\n",
      "\n",
      "Training Data label Y: [0 0 1 1]\n",
      "\n",
      "Predicted Classs labels for testing data Y: [1 1 1 1]\n",
      "\n",
      "Confusion Matrix\n",
      " [[0 3]\n",
      " [0 1]]\n",
      "\n",
      "Accuracy :  0.25\n",
      "Sensitivity :  1.0\n",
      "Specificity :  0.0\n"
     ]
    }
   ],
   "source": [
    "#Question 10\n",
    "import numpy as nm   \n",
    "import pandas as pd \n",
    "from sklearn.model_selection import train_test_split  \n",
    "from sklearn.preprocessing import StandardScaler \n",
    "from sklearn.neighbors import KNeighborsClassifier \n",
    "from sklearn.metrics import confusion_matrix \n",
    "\n",
    "X= nm.array([[1,0],[2,0],[3,0],[6,0],[6,0],[7,0],[10,0],[11,0]])\n",
    "print(\"Dataset with total 8 points: \\n\",X,\"\\n Size: \",len(X))\n",
    "y = nm.array([0,0,1,1,1,0,0,0])\n",
    "print(\"\\nClass label for the datasetX  Y:\",y)\n",
    "x_train, x_test, y_train, y_test= train_test_split(X, y, test_size= 0.50, random_state=0,shuffle=False ) \n",
    "print(\"\\nTraining Data X: \\n\", x_train)\n",
    "print(\"\\nTraining Data label Y:\", y_train)\n",
    "\n",
    "#feature Scaling-used to normalize the range of independent variables or features of data. .\n",
    "#i.e.to standardize the data prior to performing classification \n",
    "stand_scalar= StandardScaler()    \n",
    "x_train= stand_scalar.fit_transform(x_train)    \n",
    "x_test= stand_scalar.transform(x_test) \n",
    "\n",
    "#Initialising KNN Classifier with value 3\n",
    "classifier= KNeighborsClassifier(n_neighbors=3)  \n",
    "#Fitting the data to classifier\n",
    "classifier.fit(x_train, y_train)\n",
    "#Predict Labels for x-test data\n",
    "y_pred= classifier.predict(x_test) \n",
    "print('\\nPredicted Classs labels for testing data Y:',y_pred)\n",
    "     \n",
    "#Confusion matrix with tested data\n",
    "confusion_matrix_result = confusion_matrix(y_test, y_pred)\n",
    "print(\"\\nConfusion Matrix\\n\",confusion_matrix_result)\n",
    "\n",
    "#total P+N can be calculated using sum(sum(conf_matrix))\n",
    "total_value = sum(sum(confusion_matrix_result))\n",
    "#Accuracy TN+TP / P+N\n",
    "accuracy=(confusion_matrix_result[0,0]+confusion_matrix_result[1,1])/total_value\n",
    "print ('\\nAccuracy : ', accuracy)\n",
    "\n",
    "#Sensitivity TP/(TP+FN)\n",
    "sensitivity = confusion_matrix_result[1,1]/(confusion_matrix_result[1,0]+confusion_matrix_result[1,1])\n",
    "print('Sensitivity : ', sensitivity )\n",
    "\n",
    "#Specificity TN/(TN+FP)\n",
    "specificity = confusion_matrix_result[0,0]/(confusion_matrix_result[0,0]+confusion_matrix_result[0,1])\n",
    "print('Specificity : ', specificity)\n"
   ]
  },
  {
   "cell_type": "markdown",
   "id": "c10fa04c",
   "metadata": {
    "pycharm": {
     "name": "#%% md\n"
    }
   },
   "source": [
    "# "
   ]
  }
 ],
 "metadata": {
  "kernelspec": {
   "display_name": "base",
   "language": "python",
   "name": "python3"
  },
  "language_info": {
   "codemirror_mode": {
    "name": "ipython",
    "version": 3
   },
   "file_extension": ".py",
   "mimetype": "text/x-python",
   "name": "python",
   "nbconvert_exporter": "python",
   "pygments_lexer": "ipython3",
   "version": "3.9.13"
  },
  "vscode": {
   "interpreter": {
    "hash": "92cf8478f6e493e0d4fa005cabdeb1b83038e8b84cb5fc641babb5820660293f"
   }
  }
 },
 "nbformat": 4,
 "nbformat_minor": 5
}
